{
 "cells": [
  {
   "cell_type": "code",
   "execution_count": 1,
   "metadata": {},
   "outputs": [
    {
     "name": "stdout",
     "output_type": "stream",
     "text": [
      "123\n"
     ]
    }
   ],
   "source": [
    "print('123')"
   ]
  },
  {
   "cell_type": "code",
   "execution_count": 1,
   "metadata": {},
   "outputs": [],
   "source": [
    "import pgl\n",
    "from pgl import graph  # 导入 PGL 中的图模块\n",
    "import paddle.fluid as fluid # 导入飞桨框架\n",
    "import numpy as np\n",
    "\n",
    "def build_graph():\n",
    "    # 定义图中的节点数目，我们使用数字来表示图中的每个节点\n",
    "    num_nodes = 10\n",
    "\n",
    "    # 定义图中的边集\n",
    "    edge_list = [(2, 0), (2, 1), (3, 1),(4, 0), (5, 0),\n",
    "             (6, 0), (6, 4), (6, 5), (7, 0), (7, 1),\n",
    "             (7, 2), (7, 3), (8, 0), (9, 7)]\n",
    "\n",
    "    # 随机初始化节点特征，特征维度为 d\n",
    "    d = 16\n",
    "    feature = np.random.randn(num_nodes, d).astype(\"float32\")\n",
    "\n",
    "    # 随机地为每条边赋值一个权重\n",
    "    edge_feature = np.random.randn(len(edge_list), 1).astype(\"float32\")\n",
    "\n",
    "    # 创建图对象，最多四个输入\n",
    "    g = graph.Graph(num_nodes = num_nodes,\n",
    "                    edges = edge_list,\n",
    "                    node_feat = {'feature':feature},\n",
    "                    edge_feat ={'edge_feature': edge_feature})\n",
    "\n",
    "    return g\n",
    "\n",
    "g = build_graph()"
   ]
  },
  {
   "cell_type": "code",
   "execution_count": 2,
   "metadata": {},
   "outputs": [
    {
     "name": "stdout",
     "output_type": "stream",
     "text": [
      "图中共计 10 个节点\n",
      "图中共计 14 条边\n"
     ]
    }
   ],
   "source": [
    "print('图中共计 %d 个节点' % g.num_nodes)\n",
    "print('图中共计 %d 条边' % g.num_edges)"
   ]
  },
  {
   "cell_type": "code",
   "execution_count": 3,
   "metadata": {},
   "outputs": [],
   "source": [
    "# 定义一个同时传递节点特征和边权重的简单模型层。\n",
    "def model_layer(gw, nfeat, efeat, hidden_size, name, activation):\n",
    "    '''\n",
    "    gw: GraphWrapper 图数据容器，用于在定义模型的时候使用，后续训练时再feed入真实数据\n",
    "    nfeat: 节点特征\n",
    "    efeat: 边权重\n",
    "    hidden_size: 模型隐藏层维度\n",
    "    activation: 使用的激活函数\n",
    "    '''\n",
    "\n",
    "    # 定义 send 函数\n",
    "    def send_func(src_feat, dst_feat, edge_feat):\n",
    "        # 将源节点的节点特征和边权重共同作为消息发送\n",
    "        return src_feat['h'] * edge_feat['e']\n",
    "\n",
    "    # 定义 recv 函数\n",
    "    def recv_func(feat):\n",
    "        # 目标节点接收源节点消息，采用 sum 的聚合方式\n",
    "        return fluid.layers.sequence_pool(feat, pool_type='sum')\n",
    "\n",
    "    # 触发消息传递机制\n",
    "    msg = gw.send(send_func, nfeat_list=[('h', nfeat)], efeat_list=[('e', efeat)])\n",
    "    output = gw.recv(msg, recv_func)\n",
    "    output = fluid.layers.fc(output,\n",
    "                    size=hidden_size,\n",
    "                    bias_attr=False,\n",
    "                    act=activation,\n",
    "                    name=name)\n",
    "    return output"
   ]
  },
  {
   "cell_type": "code",
   "execution_count": 4,
   "metadata": {},
   "outputs": [],
   "source": [
    "class Model(object):\n",
    "    def __init__(self, graph):\n",
    "        \"\"\"\n",
    "        graph: 我们前面创建好的图\n",
    "        \"\"\"\n",
    "        # 创建 GraphWrapper 图数据容器，用于在定义模型的时候使用，后续训练时再feed入真实数据\n",
    "        self.gw = pgl.graph_wrapper.GraphWrapper(name='graph',\n",
    "                    node_feat=graph.node_feat_info(),\n",
    "                    edge_feat=graph.edge_feat_info())\n",
    "        # 作用同 GraphWrapper，此处用作节点标签的容器\n",
    "        self.node_label = fluid.layers.data(\"node_label\", shape=[None, 1],\n",
    "                    dtype=\"float32\", append_batch_size=False)\n",
    "\n",
    "    def build_model(self):\n",
    "        # 定义两层model_layer\n",
    "        output = model_layer(self.gw, \n",
    "                             self.gw.node_feat['feature'], \n",
    "                             self.gw.edge_feat['edge_feature'],\n",
    "                             hidden_size=8, \n",
    "                             name='layer_1', \n",
    "                             activation='relu')\n",
    "        output = model_layer(self.gw, \n",
    "                             output, \n",
    "                             self.gw.edge_feat['edge_feature'],\n",
    "                             hidden_size=1, \n",
    "                             name='layer_2', \n",
    "                             activation=None)\n",
    "                             \n",
    "        # 对于二分类任务，可以使用以下 API 计算损失\n",
    "        loss = fluid.layers.sigmoid_cross_entropy_with_logits(x=output, \n",
    "                                                              label=self.node_label)\n",
    "        # 计算平均损失\n",
    "        loss = fluid.layers.mean(loss)\n",
    "        \n",
    "        # 计算准确率\n",
    "        prob = fluid.layers.sigmoid(output)\n",
    "        pred = prob > 0.5\n",
    "        pred = fluid.layers.cast(prob > 0.5, dtype=\"float32\")\n",
    "        correct = fluid.layers.equal(pred, self.node_label)\n",
    "        correct = fluid.layers.cast(correct, dtype=\"float32\")\n",
    "        acc = fluid.layers.reduce_mean(correct)\n",
    "\n",
    "        return loss, acc"
   ]
  },
  {
   "cell_type": "code",
   "execution_count": 5,
   "metadata": {},
   "outputs": [
    {
     "name": "stderr",
     "output_type": "stream",
     "text": [
      "/Users/zhengqixin/opt/anaconda3/envs/Paddle/lib/python3.6/site-packages/pgl/graph_wrapper.py:151: UserWarning: The edge features in argument `efeat_list` should be fetched from a instance of `pgl.graph_wrapper.GraphWrapper`, because we have sorted the edges and the order of edges is changed.\n",
      "Therefore, if you use external edge features, the order of features of each edge may not match its edge, which can cause serious errors.\n",
      "If you use the `efeat_list` correctly, please ignore this warning.\n",
      "  \"The edge features in argument `efeat_list` should be fetched \"\n"
     ]
    }
   ],
   "source": [
    "# 是否在 GPU 或 CPU 环境运行\n",
    "use_cuda = False\n",
    "place = fluid.CUDAPlace(0) if use_cuda else fluid.CPUPlace()\n",
    "\n",
    "# 定义程序，也就是我们的 Program\n",
    "startup_program = fluid.Program() # 用于初始化模型参数\n",
    "train_program = fluid.Program()   # 训练时使用的主程序，包含前向计算和反向梯度计算\n",
    "test_program = fluid.Program()    # 测试时使用的程序，只包含前向计算\n",
    "\n",
    "with fluid.program_guard(train_program, startup_program):\n",
    "    model = Model(g)\n",
    "    # 创建模型和计算 Loss\n",
    "    loss, acc = model.build_model()\n",
    "    # 选择Adam优化器，学习率设置为0.01\n",
    "    adam = fluid.optimizer.Adam(learning_rate=0.01)\n",
    "    adam.minimize(loss) # 计算梯度和执行梯度反向传播过程\n",
    "\n",
    "# 复制构造 test_program，与 train_program的区别在于不需要梯度计算和反向过程。\n",
    "test_program = train_program.clone(for_test=True)\n",
    "\n",
    "# 定义一个在 place(CPU)上的Executor来执行program\n",
    "exe = fluid.Executor(place)\n",
    "# 参数初始化\n",
    "exe.run(startup_program) \n",
    "\n",
    "# 获取真实图数据\n",
    "feed_dict = model.gw.to_feed(g) \n",
    "# 获取真实标签数据\n",
    "# 由于我们是做节点分类任务，因此可以简单的用0、1表示节点类别。其中，黄色点标签为0，绿色点标签为1。\n",
    "y = [0,1,1,1,0,0,0,1,0,1]\n",
    "label = np.array(y, dtype=\"float32\")\n",
    "label = np.expand_dims(label, -1)\n",
    "feed_dict['node_label'] = label"
   ]
  },
  {
   "cell_type": "code",
   "execution_count": 7,
   "metadata": {},
   "outputs": [
    {
     "name": "stdout",
     "output_type": "stream",
     "text": [
      "Epoch 0 | Loss: 0.590563\n",
      "Epoch 1 | Loss: 0.544562\n",
      "Epoch 2 | Loss: 0.510613\n",
      "Epoch 3 | Loss: 0.486049\n",
      "Epoch 4 | Loss: 0.467708\n",
      "Epoch 5 | Loss: 0.454132\n",
      "Epoch 6 | Loss: 0.444432\n",
      "Epoch 7 | Loss: 0.437542\n",
      "Epoch 8 | Loss: 0.432609\n",
      "Epoch 9 | Loss: 0.429030\n",
      "Epoch 10 | Loss: 0.426391\n",
      "Epoch 11 | Loss: 0.424414\n",
      "Epoch 12 | Loss: 0.422909\n",
      "Epoch 13 | Loss: 0.421748\n",
      "Epoch 14 | Loss: 0.420842\n",
      "Epoch 15 | Loss: 0.420124\n",
      "Epoch 16 | Loss: 0.419547\n",
      "Epoch 17 | Loss: 0.419079\n",
      "Epoch 18 | Loss: 0.418702\n",
      "Epoch 19 | Loss: 0.418389\n",
      "Epoch 20 | Loss: 0.418127\n",
      "Epoch 21 | Loss: 0.417906\n",
      "Epoch 22 | Loss: 0.417718\n",
      "Epoch 23 | Loss: 0.417558\n",
      "Epoch 24 | Loss: 0.417421\n",
      "Epoch 25 | Loss: 0.417302\n",
      "Epoch 26 | Loss: 0.417199\n",
      "Epoch 27 | Loss: 0.417109\n",
      "Epoch 28 | Loss: 0.417030\n",
      "Epoch 29 | Loss: 0.416960\n"
     ]
    }
   ],
   "source": [
    "\n",
    "for epoch in range(30):\n",
    "    train_loss = exe.run(train_program,\n",
    "        feed=feed_dict,      # feed入真实训练数据\n",
    "        fetch_list=[loss],   # fetch出需要的计算结果\n",
    "        return_numpy=True)[0]\n",
    "    print('Epoch %d | Loss: %f' % (epoch, train_loss))"
   ]
  },
  {
   "cell_type": "code",
   "execution_count": null,
   "metadata": {},
   "outputs": [],
   "source": []
  }
 ],
 "metadata": {
  "kernelspec": {
   "display_name": "Python 3",
   "language": "python",
   "name": "python3"
  },
  "language_info": {
   "codemirror_mode": {
    "name": "ipython",
    "version": 3
   },
   "file_extension": ".py",
   "mimetype": "text/x-python",
   "name": "python",
   "nbconvert_exporter": "python",
   "pygments_lexer": "ipython3",
   "version": "3.8.5"
  }
 },
 "nbformat": 4,
 "nbformat_minor": 5
}
