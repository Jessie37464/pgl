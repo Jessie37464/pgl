{
 "cells": [
  {
   "cell_type": "code",
   "execution_count": 1,
   "id": "animated-greenhouse",
   "metadata": {},
   "outputs": [],
   "source": [
    "import paddle.fluid.layers as L"
   ]
  },
  {
   "cell_type": "code",
   "execution_count": 2,
   "id": "heavy-marble",
   "metadata": {},
   "outputs": [],
   "source": [
    "def gcn_layer(gw, feature, hidden_size, activation, name, norm=None):\n",
    "    \n",
    "    def send_func(src_feat, dst_feat, edge_feat):\n",
    "        return src_feat[\"h\"]\n",
    "    \n",
    "    def recv_func(msg):\n",
    "        return L.sequence_pool(msg, pool_type='sum')\n",
    "    \n",
    "    msg = gw.send_fund(send_func, nfeate_list[(\"h\", feature)])\n",
    "    \n",
    "    output = gw.recv(msg, recv_func)\n",
    "    \n",
    "    output = L.fc(output, size=hidden_size, bias_attr=False, act=activation, name=name)\n",
    "    \n",
    "    return output"
   ]
  },
  {
   "cell_type": "code",
   "execution_count": null,
   "id": "contained-relief",
   "metadata": {},
   "outputs": [],
   "source": [
    " "
   ]
  }
 ],
 "metadata": {
  "kernelspec": {
   "display_name": "Python [conda env:Paddle] *",
   "language": "python",
   "name": "conda-env-Paddle-py"
  },
  "language_info": {
   "codemirror_mode": {
    "name": "ipython",
    "version": 3
   },
   "file_extension": ".py",
   "mimetype": "text/x-python",
   "name": "python",
   "nbconvert_exporter": "python",
   "pygments_lexer": "ipython3",
   "version": "3.6.13"
  }
 },
 "nbformat": 4,
 "nbformat_minor": 5
}
