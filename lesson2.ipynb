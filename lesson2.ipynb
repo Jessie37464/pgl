{
 "cells": [
  {
   "cell_type": "code",
   "execution_count": 2,
   "id": "dependent-reynolds",
   "metadata": {},
   "outputs": [],
   "source": [
    "import numpy as np\n",
    "%matplotlib inline\n",
    "import matplotlib.pyplot as plt\n",
    "import networkx as nx # networkx是一个常用的绘制复杂图形的Python包。\n",
    "\n",
    "import pgl"
   ]
  },
  {
   "cell_type": "code",
   "execution_count": 3,
   "id": "fancy-killer",
   "metadata": {},
   "outputs": [],
   "source": [
    "def build_graph():\n",
    "    # 定义节点的个数；每个节点用一个数字表示，即从0~9\n",
    "    num_node = 10\n",
    "    # 添加节点之间的边，每条边用一个tuple表示为: (src, dst)\n",
    "    edge_list = [(2, 0), (2, 1), (3, 1),(4, 0), (0, 5), \n",
    "             (6, 0), (6, 4), (5, 6), (7, 0), (1, 7),\n",
    "             (2, 7), (7, 3), (8, 0), (9, 7)]\n",
    "\n",
    "    g = pgl.graph.Graph(num_nodes = num_node, edges = edge_list)\n",
    "\n",
    "    return g\n",
    "\n",
    "# 创建一个图对象，用于保存图网络的各种数据。\n",
    "g = build_graph()"
   ]
  },
  {
   "cell_type": "code",
   "execution_count": 4,
   "id": "offensive-oakland",
   "metadata": {},
   "outputs": [
    {
     "data": {
      "image/png": "[encoded data removed]",
      "text/plain": [
       "<Figure size 432x288 with 1 Axes>"
      ]
     },
     "metadata": {},
     "output_type": "display_data"
    }
   ],
   "source": [
    "def display_graph(g):\n",
    "    nx_G = nx.Graph()\n",
    "    nx_G.add_nodes_from(range(g.num_nodes))\n",
    "    nx_G.add_edges_from(g.edges)\n",
    "    \n",
    "    pos = nx.spring_layout(nx_G, iterations=50)\n",
    "    \n",
    "    nx.draw(nx_G, \n",
    "            pos,\n",
    "            with_labels=True,\n",
    "            node_color=['y','g','g','g','y','y','y','g','y','g'], \n",
    "            node_size=1000)\n",
    "\n",
    "    plt.show()\n",
    "\n",
    "display_graph(g)"
   ]
  },
  {
   "cell_type": "code",
   "execution_count": 9,
   "id": "secret-andorra",
   "metadata": {},
   "outputs": [],
   "source": [
    "def deepwalk(graph, start_node, walk_len):\n",
    "    walk = [start_node] # 初始化游走序列\n",
    "\n",
    "    for d in range(walk_len): # 最大长度范围内进行采样\n",
    "        current_node = walk[-1] \n",
    "        successors = graph.successor(np.array([current_node])) # graph.successor: 获取当前节点的后继邻居\n",
    "        print(\"当前节点: %d\" % current_node)\n",
    "        print(\"后继邻居\", successors[0])\n",
    "        succ = successors[0]\n",
    "        if len(succ) == 0:\n",
    "            break\n",
    "        next_node = np.random.choice(succ, 1)\n",
    "        walk.extend(next_node)\n",
    "        \n",
    "    return walk"
   ]
  },
  {
   "cell_type": "code",
   "execution_count": 10,
   "id": "corporate-italian",
   "metadata": {},
   "outputs": [
    {
     "name": "stdout",
     "output_type": "stream",
     "text": [
      "当前节点: 2\n",
      "后继邻居 [0 1 7]\n",
      "当前节点: 7\n",
      "后继邻居 [0 3]\n",
      "当前节点: 0\n",
      "后继邻居 [5]\n",
      "当前节点: 5\n",
      "后继邻居 [6]\n",
      "[2, 7, 0, 5, 6]\n"
     ]
    }
   ],
   "source": [
    "walk = deepwalk(g, 2, 4)\n",
    "print(walk)"
   ]
  },
  {
   "cell_type": "code",
   "execution_count": null,
   "id": "cheap-jungle",
   "metadata": {},
   "outputs": [],
   "source": []
  }
 ],
 "metadata": {
  "kernelspec": {
   "display_name": "Python [conda env:Paddle] *",
   "language": "python",
   "name": "conda-env-Paddle-py"
  },
  "language_info": {
   "codemirror_mode": {
    "name": "ipython",
    "version": 3
   },
   "file_extension": ".py",
   "mimetype": "text/x-python",
   "name": "python",
   "nbconvert_exporter": "python",
   "pygments_lexer": "ipython3",
   "version": "3.6.13"
  }
 },
 "nbformat": 4,
 "nbformat_minor": 5
}
